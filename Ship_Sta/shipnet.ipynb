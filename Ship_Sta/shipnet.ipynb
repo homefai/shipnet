{
 "cells": [
  {
   "cell_type": "code",
   "execution_count": 1,
   "metadata": {
    "collapsed": false
   },
   "outputs": [
    {
     "name": "stderr",
     "output_type": "stream",
     "text": [
      "//anaconda/lib/python2.7/site-packages/matplotlib/font_manager.py:273: UserWarning: Matplotlib is building the font cache using fc-list. This may take a moment.\n",
      "  warnings.warn('Matplotlib is building the font cache using fc-list. This may take a moment.')\n"
     ]
    }
   ],
   "source": [
    "import numpy as np\n",
    "import pandas as pd\n",
    "import matplotlib.pyplot as plt\n",
    "import os, sys\n",
    "%matplotlib inline"
   ]
  },
  {
   "cell_type": "code",
   "execution_count": 2,
   "metadata": {
    "collapsed": true
   },
   "outputs": [],
   "source": [
    "from os import listdir\n",
    "from os.path import isfile, join"
   ]
  },
  {
   "cell_type": "code",
   "execution_count": 3,
   "metadata": {
    "collapsed": true
   },
   "outputs": [],
   "source": [
    "basepath = os.path.dirname(os.path.abspath('__file__'))\n",
    "photo_file_path = os.path.join( basepath , 'shipsnet')\n",
    "json_file_name = 'shipsnet.json'"
   ]
  },
  {
   "cell_type": "code",
   "execution_count": 4,
   "metadata": {
    "collapsed": true
   },
   "outputs": [],
   "source": [
    "files_in_folder = [f for f in listdir(photo_file_path) if isfile(join(photo_file_path, f))]"
   ]
  },
  {
   "cell_type": "code",
   "execution_count": 5,
   "metadata": {
    "collapsed": false
   },
   "outputs": [
    {
     "name": "stdout",
     "output_type": "stream",
     "text": [
      "size_mean:10629.9275, size_std:1438.71961808\n"
     ]
    },
    {
     "data": {
      "image/png": "[encoded data removed]",
      "text/plain": [
       "<matplotlib.figure.Figure at 0x1116d89d0>"
      ]
     },
     "metadata": {},
     "output_type": "display_data"
    }
   ],
   "source": [
    "def get_image_dimension(file_path): \n",
    "    import matplotlib.pyplot as plt\n",
    "    img = plt.imread(file_path)\n",
    "    return img.shape\n",
    "\n",
    "def get_img_dimension_list(file_path_list, base):\n",
    "    import os\n",
    "    width = []\n",
    "    length = []\n",
    "    channel = []\n",
    "    for i in file_path_list:   \n",
    "        a, b, c = get_image_dimension(os.path.join(base, i))\n",
    "        width.append(a)\n",
    "        length.append(b)\n",
    "        channel.append(c)\n",
    "    return width, length, channel\n",
    "\n",
    "def get_image_info(json_file_path): \n",
    "    import json\n",
    "    with open(json_file_path) as data_file:    \n",
    "        data = json.load(data_file)\n",
    "    return data\n",
    "\n",
    "def get_file_type_summary(ext_str_len = 3):\n",
    "    data_type_summary = {}\n",
    "    for data in files_in_folder:\n",
    "        ext = data[-1*ext_str_len:]\n",
    "        if  ext in data_type_summary.keys():\n",
    "            data_type_summary[ext] += 1\n",
    "        else: \n",
    "            data_type_summary[ext] = 1\n",
    "    return data_type_summary\n",
    "\n",
    "def get_file_size_summary(file_list, file_dir = photo_file_path): \n",
    "    import os\n",
    "    data_summary = { 'file_name': file_list}\n",
    "    if isinstance( file_list, list): \n",
    "        data_summary['file_size'] = [ os.stat(os.path.join(file_dir , i)).st_size for i in file_list]  \n",
    "        data_summary['extension'] = [ i[-3:] for i in file_list] \n",
    "        data_summary['width'], data_summary['length'], data_summary['channel'] = get_img_dimension_list(files_in_folder,photo_file_path)\n",
    "        return data_summary\n",
    "    else:\n",
    "        print('dtype is not a list')\n",
    "        return None\n",
    "\n",
    "\n",
    "def data_size_summary(pd_summary):\n",
    "    data_size = pd_summary['file_size']\n",
    "    data_size.plot.hist(bins=100)\n",
    "    size_mean = data_size.mean()\n",
    "    size_std = data_size.std()\n",
    "    print( 'size_mean:{}, size_std:{}'.format(size_mean , size_std) )\n",
    "\n",
    "\n",
    "file_size_summary = get_file_size_summary(files_in_folder)\n",
    "pd_summary = pd.DataFrame(file_size_summary)\n",
    "data_size_summary(pd_summary)"
   ]
  },
  {
   "cell_type": "code",
   "execution_count": 6,
   "metadata": {
    "collapsed": true
   },
   "outputs": [],
   "source": [
    "img_data = get_image_info(json_file_name)\n",
    "test_img_path = os.path.join( photo_file_path, files_in_folder[10])"
   ]
  },
  {
   "cell_type": "code",
   "execution_count": 7,
   "metadata": {
    "collapsed": false
   },
   "outputs": [],
   "source": [
    "full_data = pd.DataFrame(img_data)[ ['data' , 'labels']]\n",
    "import sklearn.cross_validation as csvalid\n",
    "train, test = csvalid.train_test_split(full_data, test_size=0.2, random_state=1) "
   ]
  },
  {
   "cell_type": "code",
   "execution_count": 8,
   "metadata": {
    "collapsed": true
   },
   "outputs": [],
   "source": [
    "def get_data(df):\n",
    "    import torch\n",
    "    import torch.utils.data as utils\n",
    "    data_x = np.array(df['data'].tolist(), dtype=np.float32)\n",
    "    data_x = torch.from_numpy(data_x.reshape( (-1, 3, 80, 80) ))\n",
    "    data_y = torch.from_numpy(np.array(df['labels'].tolist(), dtype=np.float32))\n",
    "    return utils.TensorDataset( data_tensor=data_x, target_tensor=data_y)"
   ]
  },
  {
   "cell_type": "code",
   "execution_count": 9,
   "metadata": {
    "collapsed": true
   },
   "outputs": [],
   "source": [
    "import torch\n",
    "from torch.autograd import Variable\n",
    "from torchvision.transforms import ToTensor\n",
    "from torchvision import datasets, transforms\n",
    "import torch.nn.functional as F\n",
    "import torch.nn as nn \n",
    "import torch.utils.data as utils\n",
    "import torch.optim as optim"
   ]
  },
  {
   "cell_type": "code",
   "execution_count": 10,
   "metadata": {
    "collapsed": true
   },
   "outputs": [],
   "source": [
    "def selectDataset(dataset='mnist'):\n",
    "    \n",
    "    if dataset == 'mnist':\n",
    "\n",
    "        train_dataset = datasets.MNIST(root='../data/',\n",
    "                                    train=True,\n",
    "                                    transform=transforms.ToTensor(),\n",
    "                                    download=True)\n",
    "                                    # change it to False after you have downloaded the data\n",
    "\n",
    "        test_dataset = datasets.MNIST(root='../data/',\n",
    "                                   train=False,\n",
    "                                   transform=transforms.ToTensor())\n",
    "        \n",
    "        flatten_size = 7*7*32\n",
    "        print('loadking the mnist dataset')\n",
    "    elif dataset == 'ship':\n",
    "        train, test = csvalid.train_test_split(full_data, test_size=0.2, random_state=10) \n",
    "        train_dataset = get_data(train)\n",
    "        test_dataset = get_data(test) \n",
    "        flatten_size = 20*20*32\n",
    "        print('loading the ship stat dataset')\n",
    "    return train_dataset, test_dataset, flatten_size"
   ]
  },
  {
   "cell_type": "code",
   "execution_count": 11,
   "metadata": {
    "collapsed": false
   },
   "outputs": [
    {
     "name": "stdout",
     "output_type": "stream",
     "text": [
      "loading the ship stat dataset\n"
     ]
    }
   ],
   "source": [
    "train_dataset, test_dataset, flatten_size = selectDataset('ship')"
   ]
  },
  {
   "cell_type": "code",
   "execution_count": 12,
   "metadata": {
    "collapsed": true
   },
   "outputs": [],
   "source": [
    "batch_size = 100\n",
    "learning_rate = 0.001\n",
    "num_epochs = 5\n",
    "# Data Loader (Input Pipeline)\n",
    "train_loader = torch.utils.data.DataLoader(dataset=train_dataset,\n",
    "                                           batch_size=batch_size,\n",
    "                                           shuffle=True)\n",
    "\n",
    "test_loader = torch.utils.data.DataLoader(dataset=test_dataset,\n",
    "                                          batch_size=batch_size,\n",
    "                                          shuffle=False)"
   ]
  },
  {
   "cell_type": "code",
   "execution_count": 13,
   "metadata": {
    "collapsed": true
   },
   "outputs": [],
   "source": [
    "datasize = train_loader.dataset[0][0].size()"
   ]
  },
  {
   "cell_type": "code",
   "execution_count": 50,
   "metadata": {
    "collapsed": false
   },
   "outputs": [
    {
     "name": "stdout",
     "output_type": "stream",
     "text": [
      "This is the conv2d parameter class\n"
     ]
    }
   ],
   "source": [
    "class Conv2d_Param(): \n",
    "    def __init__(self,mini_batch=10, i_channel=3, width=80, height=10, kernel=9): \n",
    "        print('This is the conv2d parameter class')\n",
    "        self.mini_batch = mini_batch\n",
    "        self.ich = i_channel\n",
    "        self.width = width\n",
    "        self.height= height\n",
    "        self.kernel = kernel\n",
    "\n",
    "class Net(nn.Module): \n",
    "    def __init__(self, param): \n",
    "        super(Net, self).__init__()\n",
    "        self.conv1 = nn.Conv2d(param.ich, 16, kernel_size=param.kernel, padding=2)\n",
    "        self.batch_norm1 = nn.BatchNorm2d(3)\n",
    "        self.conv2 = nn.Conv2d(16, 32, kernel_size=param.kernel, padding=2 )\n",
    "        self.batch_norm2 = nn.BatchNorm2d(16)\n",
    "        self.conv2_drop = nn.Dropout2d()\n",
    "        self.fc1 = nn.Linear(flatten_size, 10)\n",
    "        self.fc2 = nn.Linear(10, 2)\n",
    "        #self.fc3 = nn.Linear(10, 1)\n",
    "              \n",
    "    def forward(self, x): \n",
    "        x = F.relu( F.max_pool2d(self.conv1(self.batch_norm1(x)) ,2))\n",
    "        #print( 'layer1:{}'.format(x.size()))\n",
    "        x = F.relu( F.max_pool2d(self.conv2_drop(self.conv2(self.batch_norm2(x))) ,2))\n",
    "        #print( 'layer2:{}'.format(x.size()))\n",
    "        x = x.view(-1, flatten_size)\n",
    "        #print( 'layer3:{}'.format(x.size()))\n",
    "        x = F.relu(self.fc1(x))\n",
    "        #print( 'layer4:{}'.format(x.size()))\n",
    "        #x = F.relu(self.fc2(x))\n",
    "        #print( 'layer5:{}'.format(x.size()))\n",
    "        #print('Here2')\n",
    "        #x = self.fc3(x)\n",
    "        #print('Here3')\n",
    "        return x\n",
    "\n",
    "    \n",
    "parameter = Conv2d_Param(mini_batch=batch_size, i_channel=datasize[0], width=datasize[1] , height=datasize[2], kernel=5 )"
   ]
  },
  {
   "cell_type": "code",
   "execution_count": 51,
   "metadata": {
    "collapsed": true
   },
   "outputs": [],
   "source": [
    "model = Net(parameter)\n",
    "criterion = nn.CrossEntropyLoss()\n",
    "gpu_version = torch.cuda.is_available()"
   ]
  },
  {
   "cell_type": "code",
   "execution_count": 52,
   "metadata": {
    "collapsed": true
   },
   "outputs": [],
   "source": [
    "def train(train_loader, model, epoch=2):\n",
    "    optimzer = torch.optim.Adam(model.parameters(), lr=0.001)\n",
    "    model.train()\n",
    "    count = 0\n",
    "    loss_data = []\n",
    "    for i in xrange(epoch):\n",
    "        for batch_id, (datax,target) in enumerate(train_loader):\n",
    "            if gpu_version:\n",
    "                datax = datax.type(torch.cuda.FloatTensor)\n",
    "                target = target.type(torch.cuda.LongTensor)\n",
    "                model.cuda()\n",
    "            else:\n",
    "                target = target.long()\n",
    "            \n",
    "            x = Variable(datax)\n",
    "            y = Variable(target)\n",
    "            optimzer.zero_grad()\n",
    "            output=model(x)\n",
    "            #print(output)\n",
    "            loss =criterion(output, y)\n",
    "            loss.backward()\n",
    "            optimzer.step()\n",
    "            loss_data.append(loss.data[0])\n",
    "            count += 1\n",
    "            if count % 50 == 0:\n",
    "                print(count)\n",
    "    return loss_data, model"
   ]
  },
  {
   "cell_type": "code",
   "execution_count": 53,
   "metadata": {
    "collapsed": false
   },
   "outputs": [],
   "source": [
    "a, b = train( train_loader , model)"
   ]
  },
  {
   "cell_type": "code",
   "execution_count": 54,
   "metadata": {
    "collapsed": false
   },
   "outputs": [
    {
     "data": {
      "image/png": "[encoded data removed]",
      "text/plain": [
       "<matplotlib.figure.Figure at 0x140ca7790>"
      ]
     },
     "metadata": {},
     "output_type": "display_data"
    }
   ],
   "source": [
    "acc = map(lambda x: 1- x, a)\n",
    "plt.plot(acc)\n",
    "plt.show()"
   ]
  },
  {
   "cell_type": "code",
   "execution_count": 55,
   "metadata": {
    "collapsed": false
   },
   "outputs": [
    {
     "name": "stdout",
     "output_type": "stream",
     "text": [
      "<class 'torch.LongTensor'>\n",
      "torch.Size([100])\n",
      "<class 'torch.LongTensor'>\n",
      "torch.Size([100])\n",
      "<class 'torch.LongTensor'>\n",
      "torch.Size([100])\n",
      "<class 'torch.LongTensor'>\n",
      "torch.Size([100])\n",
      "<class 'torch.LongTensor'>\n",
      "torch.Size([100])\n",
      "<class 'torch.LongTensor'>\n",
      "torch.Size([60])\n"
     ]
    }
   ],
   "source": [
    "correct = 0\n",
    "total =0\n",
    "model.eval()\n",
    "gpu_version = torch.cuda.is_available()\n",
    "all_predict = torch.LongTensor()\n",
    "all_label = torch.LongTensor()\n",
    "for d, (dx, dy) in enumerate(test_loader):\n",
    "    \n",
    "    if gpu_version:\n",
    "        dx = dx.type(torch.cuda.FloatTensor)\n",
    "        dy = dy.type(torch.cuda.LongTensor)\n",
    "        model.cuda()\n",
    "    else:\n",
    "        dy = dy.long()\n",
    "    ddx = Variable(dx)\n",
    "    ddy = Variable(dy.long())\n",
    "    output = model(ddx)\n",
    "    _, prediction = torch.max(output.data,1)\n",
    "    all_predict = torch.cat((all_predict, prediction) ,0 )\n",
    "    all_label = torch.cat( (all_label, dy) , 0 ) \n",
    "    print(type(prediction))\n",
    "    total += prediction.size()[0]\n",
    "    print(prediction.size())\n",
    "    correct += (prediction == dy.long()).sum()\n",
    "    "
   ]
  },
  {
   "cell_type": "code",
   "execution_count": 56,
   "metadata": {
    "collapsed": false
   },
   "outputs": [],
   "source": [
    "from sklearn.metrics import confusion_matrix"
   ]
  },
  {
   "cell_type": "code",
   "execution_count": 57,
   "metadata": {
    "collapsed": false
   },
   "outputs": [],
   "source": [
    "all_label, all_predict = all_label.cpu().numpy(), all_predict.cpu().numpy()\n",
    "con_matrix = confusion_matrix(all_label, all_predict)"
   ]
  },
  {
   "cell_type": "code",
   "execution_count": 58,
   "metadata": {
    "collapsed": false
   },
   "outputs": [
    {
     "data": {
      "text/plain": [
       "array([[427,   7],\n",
       "       [ 22, 104]])"
      ]
     },
     "execution_count": 58,
     "metadata": {},
     "output_type": "execute_result"
    }
   ],
   "source": [
    "con_matrix"
   ]
  },
  {
   "cell_type": "code",
   "execution_count": 59,
   "metadata": {
    "collapsed": false
   },
   "outputs": [
    {
     "name": "stdout",
     "output_type": "stream",
     "text": [
      "accuracy:0.948214285714, precision:0.951002227171 , recall:0.983870967742\n"
     ]
    }
   ],
   "source": [
    "precision = lambda x: x[0,0]*1.0/ x[:, 0].sum()\n",
    "recall = lambda x: x[0,0]*1.0/x[0,:].sum() \n",
    "accuracy = lambda x: x.diagonal().sum()*1.0 / x.sum()\n",
    "def full_measure(con_matrix):\n",
    "    return accuracy(con_matrix) , precision(con_matrix), recall(con_matrix)\n",
    "acc, p, r = full_measure(con_matrix)\n",
    "print( 'accuracy:{}, precision:{} , recall:{}'.format(acc, p, r))"
   ]
  },
  {
   "cell_type": "code",
   "execution_count": 61,
   "metadata": {
    "collapsed": true
   },
   "outputs": [],
   "source": [
    "def extract_single_data_from_loader(loader, index): \n",
    "    data_input = loader.dataset[index][0]\n",
    "    data_label = loader.dataset[index][1] \n",
    "    return data_input, data_label\n",
    "\n",
    "def singleImgclass(model , data, label=None):\n",
    "    import matplotlib.pyplot as plt\n",
    "    data_tmp = data.cpu().numpy()\n",
    "    data_tmp = np.squeeze(data_tmp).transpose([1,2,0])\n",
    "    gpu_version = torch.cuda.is_available()\n",
    "    if gpu_version:\n",
    "        data = data.type(torch.cuda.FloatTensor)\n",
    "    data = Variable(data , requires_grad=True)\n",
    "    output = model.forward(data.unsqueeze(0))\n",
    "    _, prediciton = torch.max(output, 1)\n",
    "    if label: \n",
    "        print('This is the label:%s, prediction:%s'%(str(label) , prediciton.data.cpu().numpy()[0]))\n",
    "    else: \n",
    "        print('prediction:%s'%prediciton.data.cpu().numpy()[0])\n",
    "    plt.imshow(data_tmp)"
   ]
  },
  {
   "cell_type": "code",
   "execution_count": 68,
   "metadata": {
    "collapsed": true
   },
   "outputs": [],
   "source": [
    "d_in, d_l = extract_single_data_from_loader(test_loader, 2)"
   ]
  },
  {
   "cell_type": "code",
   "execution_count": 69,
   "metadata": {
    "collapsed": false
   },
   "outputs": [
    {
     "name": "stdout",
     "output_type": "stream",
     "text": [
      "prediction:0\n"
     ]
    },
    {
     "data": {
      "image/png": "[encoded data removed]",
      "text/plain": [
       "<matplotlib.figure.Figure at 0x13fa67b10>"
      ]
     },
     "metadata": {},
     "output_type": "display_data"
    }
   ],
   "source": [
    "singleImgclass(model , d_in, d_l)"
   ]
  },
  {
   "cell_type": "code",
   "execution_count": null,
   "metadata": {
    "collapsed": true
   },
   "outputs": [],
   "source": []
  }
 ],
 "metadata": {
  "kernelspec": {
   "display_name": "Python 2",
   "language": "python",
   "name": "python2"
  },
  "language_info": {
   "codemirror_mode": {
    "name": "ipython",
    "version": 2
   },
   "file_extension": ".py",
   "mimetype": "text/x-python",
   "name": "python",
   "nbconvert_exporter": "python",
   "pygments_lexer": "ipython2",
   "version": "2.7.11"
  }
 },
 "nbformat": 4,
 "nbformat_minor": 2
}
